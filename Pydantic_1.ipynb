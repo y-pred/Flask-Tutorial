{
  "nbformat": 4,
  "nbformat_minor": 0,
  "metadata": {
    "colab": {
      "provenance": []
    },
    "kernelspec": {
      "name": "python3",
      "display_name": "Python 3"
    },
    "language_info": {
      "name": "python"
    }
  },
  "cells": [
    {
      "cell_type": "code",
      "execution_count": 1,
      "metadata": {
        "colab": {
          "base_uri": "https://localhost:8080/"
        },
        "id": "_Vb3mkwADTzG",
        "outputId": "bc40843a-8798-44dc-d4f9-71de27aced81"
      },
      "outputs": [
        {
          "output_type": "stream",
          "name": "stdout",
          "text": [
            "Requirement already satisfied: pydantic in /usr/local/lib/python3.11/dist-packages (2.11.7)\n",
            "Requirement already satisfied: annotated-types>=0.6.0 in /usr/local/lib/python3.11/dist-packages (from pydantic) (0.7.0)\n",
            "Requirement already satisfied: pydantic-core==2.33.2 in /usr/local/lib/python3.11/dist-packages (from pydantic) (2.33.2)\n",
            "Requirement already satisfied: typing-extensions>=4.12.2 in /usr/local/lib/python3.11/dist-packages (from pydantic) (4.14.0)\n",
            "Requirement already satisfied: typing-inspection>=0.4.0 in /usr/local/lib/python3.11/dist-packages (from pydantic) (0.4.1)\n"
          ]
        }
      ],
      "source": [
        "!pip install pydantic"
      ]
    },
    {
      "cell_type": "code",
      "source": [
        "from pydantic import BaseModel\n",
        "from typing import Optional"
      ],
      "metadata": {
        "id": "-6o5s0C6Dd13"
      },
      "execution_count": 2,
      "outputs": []
    },
    {
      "cell_type": "markdown",
      "source": [
        "###Basic Usage"
      ],
      "metadata": {
        "id": "94upt-iIFUVk"
      }
    },
    {
      "cell_type": "code",
      "source": [
        "class User(BaseModel):\n",
        "  id: int\n",
        "  name: str\n",
        "  email: str\n",
        "  age: Optional[int] = None\n",
        "  married: bool = True\n",
        "\n",
        "obj = User(id=1,name = \"Ash89\",email = \"ash@gmail.com\")\n",
        "print(obj)"
      ],
      "metadata": {
        "colab": {
          "base_uri": "https://localhost:8080/"
        },
        "id": "UMbxeiIuDnWC",
        "outputId": "c26cb1a9-3230-45ac-fd75-7cb8cc9e371a"
      },
      "execution_count": 3,
      "outputs": [
        {
          "output_type": "stream",
          "name": "stdout",
          "text": [
            "id=1 name='Ash89' email='ash@gmail.com' age=None married=True\n"
          ]
        }
      ]
    },
    {
      "cell_type": "markdown",
      "source": [
        "Add optional field like age: Optional[int] = None\n",
        "\n",
        "Add default values\n",
        "\n",
        "Try initializing with missing fields"
      ],
      "metadata": {
        "id": "AwTZZEEZFQnh"
      }
    },
    {
      "cell_type": "markdown",
      "source": [
        "###Data Validation"
      ],
      "metadata": {
        "id": "YGef04yKFYKN"
      }
    },
    {
      "cell_type": "code",
      "source": [
        "!pip install email-validator"
      ],
      "metadata": {
        "colab": {
          "base_uri": "https://localhost:8080/"
        },
        "id": "L98jPKySGMKF",
        "outputId": "8456881e-eee3-4664-99a7-109eb55d7e0a"
      },
      "execution_count": 5,
      "outputs": [
        {
          "output_type": "stream",
          "name": "stdout",
          "text": [
            "Collecting email-validator\n",
            "  Downloading email_validator-2.2.0-py3-none-any.whl.metadata (25 kB)\n",
            "Collecting dnspython>=2.0.0 (from email-validator)\n",
            "  Downloading dnspython-2.7.0-py3-none-any.whl.metadata (5.8 kB)\n",
            "Requirement already satisfied: idna>=2.0.0 in /usr/local/lib/python3.11/dist-packages (from email-validator) (3.10)\n",
            "Downloading email_validator-2.2.0-py3-none-any.whl (33 kB)\n",
            "Downloading dnspython-2.7.0-py3-none-any.whl (313 kB)\n",
            "\u001b[?25l   \u001b[90m━━━━━━━━━━━━━━━━━━━━━━━━━━━━━━━━━━━━━━━━\u001b[0m \u001b[32m0.0/313.6 kB\u001b[0m \u001b[31m?\u001b[0m eta \u001b[36m-:--:--\u001b[0m\r\u001b[2K   \u001b[90m━━━━━━━━━━━━━━━━━━━━━━━━━━━━━━━━━━━━━━━━\u001b[0m \u001b[32m313.6/313.6 kB\u001b[0m \u001b[31m27.4 MB/s\u001b[0m eta \u001b[36m0:00:00\u001b[0m\n",
            "\u001b[?25hInstalling collected packages: dnspython, email-validator\n",
            "Successfully installed dnspython-2.7.0 email-validator-2.2.0\n"
          ]
        }
      ]
    },
    {
      "cell_type": "code",
      "source": [
        "#Builtin Validators\n",
        "\n",
        "from pydantic import EmailStr, BaseModel\n",
        "\n",
        "class User(BaseModel):\n",
        "  id: int\n",
        "  name: str\n",
        "  email: EmailStr\n",
        "\n",
        "obj = User(id=3, name=\"Neh\", email = \"neh@gmail.com\")\n",
        "print(obj)\n",
        "\n"
      ],
      "metadata": {
        "colab": {
          "base_uri": "https://localhost:8080/"
        },
        "id": "m6Qvduj9FRc_",
        "outputId": "f0230d98-ba49-4be7-c518-d5c11ff5ab84"
      },
      "execution_count": 6,
      "outputs": [
        {
          "output_type": "stream",
          "name": "stdout",
          "text": [
            "id=3 name='Neh' email='neh@gmail.com'\n"
          ]
        }
      ]
    },
    {
      "cell_type": "code",
      "source": [
        "from datetime import date\n",
        "#Custom Validator\n",
        "\n",
        "from pydantic import BaseModel, field_validator\n",
        "\n",
        "class User(BaseModel):\n",
        "  name: str\n",
        "  price: float\n",
        "\n",
        "\n",
        "  @field_validator(\"price\")\n",
        "  def check_price(cls,value):\n",
        "    if value<0:\n",
        "      raise ValueError(\"Price cannot be negative, put positive\")\n",
        "    return value\n",
        "\n",
        "  @field_validator(\"name\")\n",
        "  def check_name(cls,value):\n",
        "    if len(value)<2:\n",
        "      raise ValueError(\"Name should be minimum of 3 characters\")\n",
        "    return value\n",
        "\n",
        "\n",
        "\n",
        "\n"
      ],
      "metadata": {
        "id": "U78-JGETkbva"
      },
      "execution_count": 14,
      "outputs": []
    },
    {
      "cell_type": "code",
      "source": [
        "obj = User(name=\"AAA\",price=23)\n",
        "print(obj)"
      ],
      "metadata": {
        "colab": {
          "base_uri": "https://localhost:8080/"
        },
        "id": "MJirj3R1lE8s",
        "outputId": "1e2440a2-0e56-433d-8b75-563c1467671e"
      },
      "execution_count": 16,
      "outputs": [
        {
          "output_type": "stream",
          "name": "stdout",
          "text": [
            "name='AAA' price=23.0\n"
          ]
        }
      ]
    },
    {
      "cell_type": "markdown",
      "source": [
        "###Model Nesting and Composition"
      ],
      "metadata": {
        "id": "nqti2sjomCwF"
      }
    },
    {
      "cell_type": "code",
      "source": [
        "from pydantic import BaseModel\n",
        "from typing import List\n",
        "\n",
        "class Address(BaseModel):\n",
        "    street: str\n",
        "    city: str\n",
        "\n",
        "class User(BaseModel):\n",
        "    name: str\n",
        "    addresses: List[Address]\n",
        "\n",
        "data = {\n",
        "    \"name\": \"Ashish\",\n",
        "    \"addresses\": [\n",
        "        {\"street\": \"MG Road\", \"city\": \"Bangalore\"},\n",
        "        {\"street\": \"Park Street\", \"city\": \"Kolkata\"},\n",
        "    ]\n",
        "}\n",
        "\n",
        "user = User(**data)\n",
        "print(user.addresses[0].city)"
      ],
      "metadata": {
        "colab": {
          "base_uri": "https://localhost:8080/"
        },
        "id": "_X_2mqnYmGHo",
        "outputId": "797d7dad-d031-4d16-b616-4590a3e412cd"
      },
      "execution_count": 17,
      "outputs": [
        {
          "output_type": "stream",
          "name": "stdout",
          "text": [
            "Bangalore\n"
          ]
        }
      ]
    },
    {
      "cell_type": "markdown",
      "source": [
        "Model a blog post with Post, Author, Comment as nested models"
      ],
      "metadata": {
        "id": "pBBIN4Ppp-kY"
      }
    },
    {
      "cell_type": "code",
      "source": [
        "from pydantic import BaseModel, EmailStr\n",
        "\n",
        "class Author(BaseModel):\n",
        "  id: int\n",
        "  name:str\n",
        "  email:EmailStr\n",
        "\n",
        "class Comment(BaseModel):\n",
        "  user: str\n",
        "  message: str\n",
        "  likes: int=0\n",
        "\n",
        "class Post(BaseModel):\n",
        "   title: str\n",
        "   content: str\n",
        "   author: Author\n",
        "   comments: List[Comment]\n",
        "   tags: Optional[List[str]] = []\n",
        "\n",
        "\n",
        "# Example input\n",
        "data = {\n",
        "    \"title\": \"Learning Pydantic\",\n",
        "    \"content\": \"Pydantic makes data validation easy.\",\n",
        "    \"author\": {\n",
        "        \"id\": 1,\n",
        "        \"name\": \"Ashish\",\n",
        "        \"email\": \"ashish@example.com\"\n",
        "    },\n",
        "    \"comments\": [\n",
        "        {\"user\": \"John\", \"message\": \"Great post!\", \"likes\": 3},\n",
        "        {\"user\": \"Jane\", \"message\": \"Thanks for this!\", \"likes\": 1}\n",
        "    ],\n",
        "    \"tags\": [\"python\", \"validation\", \"pydantic\"]\n",
        "}\n",
        "\n",
        "post = Post(**data)\n",
        "print(post.author.email)"
      ],
      "metadata": {
        "colab": {
          "base_uri": "https://localhost:8080/"
        },
        "id": "cklvIaY-qBj0",
        "outputId": "c7373b22-112d-4f5a-9514-816733110eb6"
      },
      "execution_count": 19,
      "outputs": [
        {
          "output_type": "stream",
          "name": "stdout",
          "text": [
            "ashish@example.com\n"
          ]
        }
      ]
    }
  ]
}